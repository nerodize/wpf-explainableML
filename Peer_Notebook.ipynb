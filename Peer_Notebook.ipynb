{
 "cells": [
  {
   "cell_type": "code",
   "execution_count": 409,
   "id": "320576e2-9020-47dc-9b23-0015b84e66ba",
   "metadata": {},
   "outputs": [],
   "source": [
    "import pandas as pd\n",
    "import numpy as np\n",
    "from sklearn.model_selection import train_test_split\n",
    "from sklearn.ensemble import RandomForestRegressor\n",
    "from sklearn.metrics import accuracy_score\n",
    "from sklearn.model_selection import train_test_split, cross_val_score\n",
    "from sklearn.metrics import confusion_matrix\n",
    "import matplotlib.pyplot as plt\n",
    "from sklearn.metrics import mean_absolute_error, mean_squared_error, explained_variance_score, r2_score"
   ]
  },
  {
   "cell_type": "code",
   "execution_count": 410,
   "id": "111fd6ac-6728-4a88-9a94-6d9b118364a9",
   "metadata": {},
   "outputs": [],
   "source": [
    "df = pd.read_excel(\"spotify-2023.xlsx\")\n",
    "first_track = df['track_name'][0]\n",
    "#print(first_track)\n",
    "#print(df.dtypes)\n",
    "df['streams'] = pd.to_numeric(df.streams)\n",
    "# df.dtypes"
   ]
  },
  {
   "cell_type": "code",
   "execution_count": 411,
   "id": "533aff4c-192b-42df-bb23-6aecc0354b59",
   "metadata": {},
   "outputs": [],
   "source": [
    "features = ['danceability_%', \n",
    "            'valence_%', \n",
    "            'acousticness_%']\n",
    "\n",
    "target = 'streams'  # regression --> zahl prognostizieren\n",
    "\n",
    "X = df[features]\n",
    "y = df[target]\n",
    "X_train, X_test, y_train, y_test = train_test_split(X, y, test_size=0.4, random_state=31)\n",
    "\n",
    "#print(X_train)\n",
    "\n",
    "#reg = RandomForestRegressor(n_estimators = 50,random_state= 42,max_depth=100)   # Hyperparameter-Suche\n",
    "reg = RandomForestRegressor()   \n",
    "reg = reg.fit(X_train, y_train)\n"
   ]
  },
  {
   "cell_type": "code",
   "execution_count": 412,
   "id": "43e34304-0a52-456f-9c43-b29cf8a16b7f",
   "metadata": {},
   "outputs": [
    {
     "name": "stdout",
     "output_type": "stream",
     "text": [
      "prediction: 827605475.\n"
     ]
    },
    {
     "name": "stderr",
     "output_type": "stream",
     "text": [
      "c:\\Users\\Alex\\anaconda3\\Lib\\site-packages\\sklearn\\base.py:464: UserWarning: X does not have valid feature names, but RandomForestRegressor was fitted with feature names\n",
      "  warnings.warn(\n"
     ]
    }
   ],
   "source": [
    "# Prognose der Testdaten\n",
    "reg.predict(X_test)\n",
    "\n",
    "# Prognose einzeln\n",
    "\n",
    "## Vereinfachung mit Methodenauslagerung\n",
    "def sci_to_float(sci_value):\n",
    "    return np.format_float_positional(sci_value)\n",
    "\n",
    "prediction = sci_to_float((reg.predict([[59, 40, 8]])))\n",
    "print(f\"prediction: {prediction}\")\n",
    "\n",
    "#\"\"\"weitere Operationen mit der Prediction\"\"\"\n",
    "# prediction.xyz"
   ]
  },
  {
   "cell_type": "code",
   "execution_count": 413,
   "metadata": {},
   "outputs": [
    {
     "name": "stdout",
     "output_type": "stream",
     "text": [
      "200\n"
     ]
    }
   ],
   "source": [
    "def testing(x) -> int:\n",
    "    return x * 20\n",
    "\n",
    "print(testing(10))"
   ]
  },
  {
   "cell_type": "code",
   "execution_count": 414,
   "id": "936d1f2d-e6d5-490d-bfdd-89b83f35dea3",
   "metadata": {},
   "outputs": [
    {
     "name": "stdout",
     "output_type": "stream",
     "text": [
      "[0.33380126 0.34418196 0.32201678]\n",
      "manual out: 0.322016777157443\n",
      "danceability_%: 0.3338012602856367\n",
      "valence_%: 0.34418196255692024\n",
      "acousticness_%: 0.322016777157443\n"
     ]
    }
   ],
   "source": [
    "# initial output\n",
    "print(reg.feature_importances_)\n",
    "\n",
    "# Get feature importances from the model\n",
    "importances = reg.feature_importances_\n",
    "\n",
    "# Assuming 'features_importance_dict' is your dictionary of feature importances\n",
    "features_importance_dict = dict(zip(X_train.columns, importances))\n",
    "print(f\"manual out: {features_importance_dict['acousticness_%']}\")\n",
    "\n",
    "# Print feature importances along with their corresponding keys (items important )\n",
    "for feature, importance in features_importance_dict.items():\n",
    "    print(f\"{feature}: {importance}\")"
   ]
  },
  {
   "cell_type": "code",
   "execution_count": 415,
   "metadata": {},
   "outputs": [
    {
     "name": "stdout",
     "output_type": "stream",
     "text": [
      "2\n",
      "4\n",
      "5\n",
      "6\n"
     ]
    }
   ],
   "source": [
    "array = [2, 4, 5, 6]\n",
    "for i in range(0, len(array)):\n",
    "    print(array[i])"
   ]
  },
  {
   "cell_type": "code",
   "execution_count": 416,
   "id": "2d26668d-6520-485e-a539-6c85d21de1b1",
   "metadata": {},
   "outputs": [
    {
     "name": "stdout",
     "output_type": "stream",
     "text": [
      "Date types: float64\n",
      "335   -1.370420e+08\n",
      "482    2.491470e+08\n",
      "84    -1.979046e+09\n",
      "208    3.923826e+08\n",
      "282    1.701763e+08\n",
      "           ...     \n",
      "317   -4.752928e+05\n",
      "911   -3.151173e+08\n",
      "784    8.938086e+06\n",
      "910   -8.547970e+08\n",
      "646   -2.447131e+08\n",
      "Name: streams, Length: 382, dtype: float64\n",
      "score train:  0.8309176103739155\n",
      "score test:  -0.09228908547738324\n"
     ]
    }
   ],
   "source": [
    "predictions = reg.predict(X_test)\n",
    "\n",
    "delta = predictions - y_test\n",
    "delta # Fehler auf den einzelnen Prognosen\n",
    "# # predictions = clf.predict(X_test)\n",
    "print(f\"Date types: {delta.dtypes}\")\n",
    "print(delta)\n",
    "print(\"score train: \", reg.score(X_train, y_train))\n",
    "print(\"score test: \", reg.score(X_test, y_test))"
   ]
  },
  {
   "cell_type": "markdown",
   "metadata": {},
   "source": [
    "# New Dataset"
   ]
  },
  {
   "cell_type": "code",
   "execution_count": 417,
   "id": "6812f871-2ed9-4955-8af2-d939147e6160",
   "metadata": {},
   "outputs": [],
   "source": [
    "# Übergeben an Lime\n",
    "import lime\n",
    "import lime.lime_tabular"
   ]
  },
  {
   "cell_type": "code",
   "execution_count": 418,
   "id": "684c036d-41db-4c06-9fa3-b06a3f349966",
   "metadata": {},
   "outputs": [],
   "source": [
    "from interpret.glassbox import ExplainableBoostingRegressor\n",
    "# Doku zu interpret \n",
    "# !pip install interpret"
   ]
  }
 ],
 "metadata": {
  "kernelspec": {
   "display_name": "Python 3",
   "language": "python",
   "name": "python3"
  },
  "language_info": {
   "codemirror_mode": {
    "name": "ipython",
    "version": 3
   },
   "file_extension": ".py",
   "mimetype": "text/x-python",
   "name": "python",
   "nbconvert_exporter": "python",
   "pygments_lexer": "ipython3",
   "version": "3.11.5"
  }
 },
 "nbformat": 4,
 "nbformat_minor": 5
}
