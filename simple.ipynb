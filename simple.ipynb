{
 "cells": [
  {
   "cell_type": "markdown",
   "id": "f6191b7e9c7c32",
   "metadata": {
    "collapsed": false
   },
   "source": [
    "# Imports"
   ]
  },
  {
   "cell_type": "code",
   "execution_count": null,
   "id": "a4380511d591bac6",
   "metadata": {
    "ExecuteTime": {
     "end_time": "2023-11-06T18:29:20.521331900Z",
     "start_time": "2023-11-06T18:29:20.463797800Z"
    },
    "collapsed": false
   },
   "outputs": [],
   "source": [
    "import matplotlib.pyplot as plt\n",
    "from sklearn.ensemble import RandomForestRegressor\n",
    "import numpy as np"
   ]
  },
  {
   "cell_type": "code",
   "execution_count": null,
   "id": "21987d26-2971-4ee8-91d0-aa4ce576e716",
   "metadata": {
    "ExecuteTime": {
     "end_time": "2023-11-06T18:30:48.087653500Z",
     "start_time": "2023-11-06T18:30:47.697467400Z"
    },
    "collapsed": false
   },
   "outputs": [],
   "source": [
    "import pandas as pd\n",
    "import os \n",
    "\n",
    "# current_directory = os.getcwd()\n",
    "# print(\"Current Working Directory:\", current_directory)\n",
    "# os.chdir(\"<your_working_directory>\")\n",
    "#current_directory = os.getcwd()\n",
    "# print(\"Current Working Directory:\", current_directory)\n",
    "df = pd.read_excel(\"spotify-2023.xlsx\")\n"
   ]
  },
  {
   "cell_type": "code",
   "execution_count": null,
   "id": "c3482c7339004b45",
   "metadata": {
    "ExecuteTime": {
     "end_time": "2023-11-06T18:30:51.517454500Z",
     "start_time": "2023-11-06T18:30:51.489443Z"
    },
    "collapsed": false
   },
   "outputs": [],
   "source": [
    "df\n"
   ]
  },
  {
   "cell_type": "code",
   "execution_count": null,
   "id": "40affbc0",
   "metadata": {
    "ExecuteTime": {
     "end_time": "2023-11-06T18:29:21.266518400Z",
     "start_time": "2023-11-06T18:29:20.846057700Z"
    }
   },
   "outputs": [],
   "source": [
    "\n",
    "df.plot(y = 'streams')\n"
   ]
  },
  {
   "cell_type": "code",
   "execution_count": null,
   "id": "7b578b2f060db7cd",
   "metadata": {
    "ExecuteTime": {
     "end_time": "2023-11-06T18:29:21.373631100Z",
     "start_time": "2023-11-06T18:29:21.248501Z"
    },
    "collapsed": false
   },
   "outputs": [],
   "source": [
    "rf = RandomForestRegressor()\n",
    "x = np.array([[1, 2], [3, 4], [5, 6]]) #basically a matrix: 3 rows and 2 columns => 2-d array\n",
    "y = np.array([10, 20, 30])\n",
    "\n",
    "rf.fit(x, y)\n",
    "predictions = rf.predict(np.array([[7, 8]]))\n",
    "\n",
    "\n",
    "print(predictions)\n",
    "    "
   ]
  },
  {
   "cell_type": "code",
   "execution_count": null,
   "id": "caf2a1cdf46aabb9",
   "metadata": {
    "ExecuteTime": {
     "end_time": "2023-11-06T18:29:21.664183300Z",
     "start_time": "2023-11-06T18:29:21.355630Z"
    },
    "collapsed": false
   },
   "outputs": [],
   "source": [
    "rf.fit(df[['instrumentalness_%', 'bpm']], df['streams'])"
   ]
  },
  {
   "cell_type": "code",
   "execution_count": null,
   "id": "dcabd82308cb0115",
   "metadata": {
    "ExecuteTime": {
     "end_time": "2023-11-06T18:29:21.702704600Z",
     "start_time": "2023-11-06T18:29:21.666141Z"
    },
    "collapsed": false
   },
   "outputs": [],
   "source": [
    "new_data = pd.DataFrame({'instrumentalness_%':[80], 'bpm': [80]}) # not good \n"
   ]
  },
  {
   "cell_type": "code",
   "execution_count": null,
   "id": "e5f634b9915d99aa",
   "metadata": {
    "ExecuteTime": {
     "end_time": "2023-11-06T18:29:21.912348500Z",
     "start_time": "2023-11-06T18:29:21.672176800Z"
    },
    "collapsed": false
   },
   "outputs": [],
   "source": [
    "predictions = rf.predict(new_data)\n",
    "formatted_prediction = np.format_float_positional(predictions)\n",
    "print(f\"streams: {formatted_prediction}\")"
   ]
  },
  {
   "cell_type": "code",
   "execution_count": null,
   "id": "94c1c72e",
   "metadata": {
    "ExecuteTime": {
     "end_time": "2023-11-06T18:29:21.913350200Z",
     "start_time": "2023-11-06T18:29:21.698692500Z"
    }
   },
   "outputs": [],
   "source": [
    "# df['streams'].hist()\n",
    "new_df_single = df['streams']\n",
    "new_df_double = df['streams']\n",
    "\n",
    "print(new_df_single)\n",
    "print(new_df_double)"
   ]
  },
  {
   "cell_type": "code",
   "execution_count": null,
   "id": "8c28f737",
   "metadata": {
    "ExecuteTime": {
     "end_time": "2023-11-06T18:29:22.030366500Z",
     "start_time": "2023-11-06T18:29:21.706705500Z"
    }
   },
   "outputs": [],
   "source": [
    "# Create a histogram\n",
    "plt.hist(df[['streams']], bins=10, color='skyblue', edgecolor='black')\n",
    "\n",
    "# Add axis labels and a title\n",
    "plt.xlabel('Value of Streams')\n",
    "plt.ylabel('Frequency')\n",
    "plt.title('Histogram of Streams')\n",
    "\n",
    "# Display the plot\n",
    "plt.show()"
   ]
  },
  {
   "cell_type": "code",
   "execution_count": null,
   "id": "de90e47588be24f7",
   "metadata": {
    "ExecuteTime": {
     "end_time": "2023-11-06T18:29:22.030366500Z",
     "start_time": "2023-11-06T18:29:21.977339200Z"
    },
    "collapsed": false
   },
   "outputs": [],
   "source": [
    "a = [['Hi', '!'], ['hello', 'what', 'is', 'up']]\n",
    "\n",
    "for sublist in a:\n",
    "    for item in sublist:\n",
    "        print(item)\n",
    "       "
   ]
  },
  {
   "cell_type": "markdown",
   "id": "318bdb8df3be9859",
   "metadata": {
    "collapsed": false
   },
   "source": [
    "# Model Training (rf)"
   ]
  },
  {
   "cell_type": "code",
   "execution_count": null,
   "id": "15211aab",
   "metadata": {
    "ExecuteTime": {
     "end_time": "2023-11-06T18:29:22.662672200Z",
     "start_time": "2023-11-06T18:29:21.987340500Z"
    }
   },
   "outputs": [],
   "source": [
    "\"\"\"X is or are the parameters (uppercase)\"\"\"\n",
    "X = df[['acousticness_%', 'instrumentalness_%', 'bpm']]\n",
    "X = X[:int(len(df)-1)] \n",
    "\n",
    "\"\"\"\n",
    "y (always in lowercase), are the target values\n",
    "why -1:\n",
    "assumption: all rows except the last one.\n",
    "\"\"\"\n",
    "y = df['streams']\n",
    "y = y[:int(len(df)-1)]\n",
    "rf.fit(X,y) #Training the model\n"
   ]
  },
  {
   "cell_type": "markdown",
   "id": "f62193e260ac17c0",
   "metadata": {
    "collapsed": false
   },
   "source": [
    "# Testing the model"
   ]
  },
  {
   "cell_type": "code",
   "execution_count": null,
   "id": "48122b75cae96265",
   "metadata": {
    "ExecuteTime": {
     "end_time": "2023-11-06T18:29:22.729818600Z",
     "start_time": "2023-11-06T18:29:22.653649800Z"
    },
    "collapsed": false
   },
   "outputs": [],
   "source": [
    "# model test\n",
    "predictions_new = rf.predict(X)\n",
    "print(f\"The model score is: {rf.score(X,y)}\")"
   ]
  },
  {
   "cell_type": "markdown",
   "id": "2c66748127c69b41",
   "metadata": {
    "collapsed": false
   },
   "source": [
    "# Making the predictions"
   ]
  },
  {
   "cell_type": "code",
   "execution_count": null,
   "id": "3eb3cd57e730d35a",
   "metadata": {
    "ExecuteTime": {
     "end_time": "2023-11-06T18:29:22.730832900Z",
     "start_time": "2023-11-06T18:29:22.721812200Z"
    },
    "collapsed": false
   },
   "outputs": [],
   "source": [
    "new_data = df[['acousticness_%', 'instrumentalness_%', 'bpm']].tail(1)\n",
    "\"\"\"\n",
    ".tail(1) retrieves the last row of the data frame.\n",
    "so basically analouge to the line earlier: y = y[:int(len(df)-1)]\n",
    "\"\"\"\n",
    "prediction = rf.predict(new_data)\n",
    "print(f\"model predicts last row to be: {np.format_float_positional(prediction)}\")\n",
    "\n",
    "actual_value = df[['streams']].tail(1).values[0][0]\n",
    "print(f\"actual value is: {actual_value}\")\n",
    "\n",
    "print(f\"prediction error: {np.format_float_positional(actual_value - prediction)}\")"
   ]
  },
  {
   "cell_type": "markdown",
   "metadata": {},
   "source": [
    "# Implementing prediction explainability with LIME\n",
    "\n",
    "+ using LIME the random forest will be explainable\n",
    "+ therefore we will need the LIME library and some other modules\n",
    "\n"
   ]
  },
  {
   "cell_type": "code",
   "execution_count": 1,
   "metadata": {},
   "outputs": [
    {
     "name": "stdout",
     "output_type": "stream",
     "text": [
      "Collecting lime\n",
      "  Downloading lime-0.2.0.1.tar.gz (275 kB)\n",
      "     ---------------------------------------- 0.0/275.7 kB ? eta -:--:--\n",
      "     - -------------------------------------- 10.2/275.7 kB ? eta -:--:--\n",
      "     -------- ---------------------------- 61.4/275.7 kB 812.7 kB/s eta 0:00:01\n",
      "     -------------------------------------- 275.7/275.7 kB 2.4 MB/s eta 0:00:00\n",
      "  Preparing metadata (setup.py): started\n",
      "  Preparing metadata (setup.py): finished with status 'done'\n",
      "Requirement already satisfied: matplotlib in c:\\users\\alexa\\anaconda3\\lib\\site-packages (from lime) (3.7.2)\n",
      "Requirement already satisfied: numpy in c:\\users\\alexa\\anaconda3\\lib\\site-packages (from lime) (1.24.3)\n",
      "Requirement already satisfied: scipy in c:\\users\\alexa\\anaconda3\\lib\\site-packages (from lime) (1.11.1)\n",
      "Requirement already satisfied: tqdm in c:\\users\\alexa\\anaconda3\\lib\\site-packages (from lime) (4.65.0)\n",
      "Requirement already satisfied: scikit-learn>=0.18 in c:\\users\\alexa\\anaconda3\\lib\\site-packages (from lime) (1.3.0)\n",
      "Requirement already satisfied: scikit-image>=0.12 in c:\\users\\alexa\\anaconda3\\lib\\site-packages (from lime) (0.20.0)\n",
      "Requirement already satisfied: networkx>=2.8 in c:\\users\\alexa\\anaconda3\\lib\\site-packages (from scikit-image>=0.12->lime) (3.1)\n",
      "Requirement already satisfied: pillow>=9.0.1 in c:\\users\\alexa\\anaconda3\\lib\\site-packages (from scikit-image>=0.12->lime) (9.4.0)\n",
      "Requirement already satisfied: imageio>=2.4.1 in c:\\users\\alexa\\anaconda3\\lib\\site-packages (from scikit-image>=0.12->lime) (2.26.0)\n",
      "Requirement already satisfied: tifffile>=2019.7.26 in c:\\users\\alexa\\anaconda3\\lib\\site-packages (from scikit-image>=0.12->lime) (2023.4.12)\n",
      "Requirement already satisfied: PyWavelets>=1.1.1 in c:\\users\\alexa\\anaconda3\\lib\\site-packages (from scikit-image>=0.12->lime) (1.4.1)\n",
      "Requirement already satisfied: packaging>=20.0 in c:\\users\\alexa\\anaconda3\\lib\\site-packages (from scikit-image>=0.12->lime) (23.1)\n",
      "Requirement already satisfied: lazy_loader>=0.1 in c:\\users\\alexa\\anaconda3\\lib\\site-packages (from scikit-image>=0.12->lime) (0.2)\n",
      "Requirement already satisfied: joblib>=1.1.1 in c:\\users\\alexa\\anaconda3\\lib\\site-packages (from scikit-learn>=0.18->lime) (1.2.0)\n",
      "Requirement already satisfied: threadpoolctl>=2.0.0 in c:\\users\\alexa\\anaconda3\\lib\\site-packages (from scikit-learn>=0.18->lime) (2.2.0)\n",
      "Requirement already satisfied: contourpy>=1.0.1 in c:\\users\\alexa\\anaconda3\\lib\\site-packages (from matplotlib->lime) (1.0.5)\n",
      "Requirement already satisfied: cycler>=0.10 in c:\\users\\alexa\\anaconda3\\lib\\site-packages (from matplotlib->lime) (0.11.0)\n",
      "Requirement already satisfied: fonttools>=4.22.0 in c:\\users\\alexa\\anaconda3\\lib\\site-packages (from matplotlib->lime) (4.25.0)\n",
      "Requirement already satisfied: kiwisolver>=1.0.1 in c:\\users\\alexa\\anaconda3\\lib\\site-packages (from matplotlib->lime) (1.4.4)\n",
      "Requirement already satisfied: pyparsing<3.1,>=2.3.1 in c:\\users\\alexa\\anaconda3\\lib\\site-packages (from matplotlib->lime) (3.0.9)\n",
      "Requirement already satisfied: python-dateutil>=2.7 in c:\\users\\alexa\\anaconda3\\lib\\site-packages (from matplotlib->lime) (2.8.2)\n",
      "Requirement already satisfied: colorama in c:\\users\\alexa\\anaconda3\\lib\\site-packages (from tqdm->lime) (0.4.6)\n",
      "Requirement already satisfied: six>=1.5 in c:\\users\\alexa\\anaconda3\\lib\\site-packages (from python-dateutil>=2.7->matplotlib->lime) (1.16.0)\n",
      "Building wheels for collected packages: lime\n",
      "  Building wheel for lime (setup.py): started\n",
      "  Building wheel for lime (setup.py): finished with status 'done'\n",
      "  Created wheel for lime: filename=lime-0.2.0.1-py3-none-any.whl size=283846 sha256=8b676e09e7865e43163ffcfd05f1c38ea713db4ac3f16bdf6ff7cede9b299cbf\n",
      "  Stored in directory: c:\\users\\alexa\\appdata\\local\\pip\\cache\\wheels\\85\\fa\\a3\\9c2d44c9f3cd77cf4e533b58900b2bf4487f2a17e8ec212a3d\n",
      "Successfully built lime\n",
      "Installing collected packages: lime\n",
      "Successfully installed lime-0.2.0.1\n",
      "Note: you may need to restart the kernel to use updated packages.\n"
     ]
    }
   ],
   "source": [
    "%pip install lime"
   ]
  }
 ],
 "metadata": {
  "kernelspec": {
   "display_name": "Python 3 (ipykernel)",
   "language": "python",
   "name": "python3"
  },
  "language_info": {
   "codemirror_mode": {
    "name": "ipython",
    "version": 3
   },
   "file_extension": ".py",
   "mimetype": "text/x-python",
   "name": "python",
   "nbconvert_exporter": "python",
   "pygments_lexer": "ipython3",
   "version": "3.11.5"
  }
 },
 "nbformat": 4,
 "nbformat_minor": 5
}
